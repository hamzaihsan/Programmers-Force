{
  "nbformat": 4,
  "nbformat_minor": 0,
  "metadata": {
    "colab": {
      "provenance": []
    },
    "kernelspec": {
      "name": "python3",
      "display_name": "Python 3"
    },
    "language_info": {
      "name": "python"
    }
  },
  "cells": [
    {
      "cell_type": "code",
      "execution_count": null,
      "metadata": {
        "colab": {
          "base_uri": "https://localhost:8080/"
        },
        "id": "BWi_-4cX95at",
        "outputId": "21c17337-65ad-44e0-a74c-e3e9303150bb"
      },
      "outputs": [
        {
          "output_type": "stream",
          "name": "stdout",
          "text": [
            "[[3, 2, 1], [4, 5, 6], [9, 8, 7]]\n"
          ]
        }
      ],
      "source": [
        "matrix=[[1,2,3],\n",
        "        [4,5,6]\n",
        "        ,[7,8,9]]\n",
        "for v in range(len(matrix)):\n",
        "  matrix[v][(len(matrix)-1-v)],matrix[v][v] =matrix[v][v],matrix[v][(len(matrix)-1-v)]\n",
        "print(matrix)"
      ]
    },
    {
      "cell_type": "code",
      "source": [
        "#checking if a no is present in a list with any function\n",
        "t=[1,2,3,4,5,6,7,8,9]\n",
        "r=any(1 in t for item in t)\n",
        "r"
      ],
      "metadata": {
        "colab": {
          "base_uri": "https://localhost:8080/"
        },
        "id": "zQfB1FJmI3Ts",
        "outputId": "5491da4c-633d-4a2b-b89b-aa335938af71"
      },
      "execution_count": null,
      "outputs": [
        {
          "output_type": "execute_result",
          "data": {
            "text/plain": [
              "False"
            ]
          },
          "metadata": {},
          "execution_count": 14
        }
      ]
    },
    {
      "cell_type": "code",
      "source": [
        "#rotating an array\n",
        "l=[1,2,3,4,5]\n",
        "l1=l[:len(l)-2:-1]+l[:len(l)-1]\n",
        "l1"
      ],
      "metadata": {
        "colab": {
          "base_uri": "https://localhost:8080/"
        },
        "id": "UyASEcwANz46",
        "outputId": "f3600e12-4c12-45f1-d4fc-b9387cb3f729"
      },
      "execution_count": null,
      "outputs": [
        {
          "output_type": "execute_result",
          "data": {
            "text/plain": [
              "[5, 1, 2, 3, 4]"
            ]
          },
          "metadata": {},
          "execution_count": 31
        }
      ]
    },
    {
      "cell_type": "code",
      "source": [
        "#Python Counter to find the size of largest subset of anagram words\n",
        "import collections\n",
        "defd = collections.defaultdict(lambda : 'Key Not found')\n",
        "defd['a'],defd['b']=1,2\n",
        "print (\"The value associated with 'a' is : \",end=\"\")\n",
        "print (defd['a'])\n",
        "print (\"The value associated with 'c' is : \",end=\"\")\n",
        "print (defd['c'])"
      ],
      "metadata": {
        "id": "j_ivbyVKevoZ",
        "colab": {
          "base_uri": "https://localhost:8080/"
        },
        "outputId": "14a51777-3036-45aa-8651-e661064e335d"
      },
      "execution_count": null,
      "outputs": [
        {
          "output_type": "stream",
          "name": "stdout",
          "text": [
            "The value associated with 'a' is : 1\n",
            "The value associated with 'c' is : Key Not found\n"
          ]
        }
      ]
    },
    {
      "cell_type": "code",
      "source": [
        "# Least Frequent Character in String\n",
        "\n",
        "test_str = \"GeeksforGeeks\"\n",
        "print (\"The original string is : \" + test_str)\n",
        "\n",
        "all_freq = {}\n",
        "for i in test_str:\n",
        "  if i in all_freq:\n",
        "    all_freq[i] += 1\n",
        "  else:\n",
        "    all_freq[i] = 1\n",
        "    res = min(all_freq, key = all_freq.get)\n",
        "\n",
        "print (\"The minimum of all characters in GeeksforGeeks is : \" + str(res))\n"
      ],
      "metadata": {
        "colab": {
          "base_uri": "https://localhost:8080/"
        },
        "id": "-scydFa_DDdf",
        "outputId": "1c9b44ce-d76f-4f2f-81b5-9a7db65f8022"
      },
      "execution_count": 1,
      "outputs": [
        {
          "output_type": "stream",
          "name": "stdout",
          "text": [
            "The original string is : GeeksforGeeks\n",
            "The minimum of all characters in GeeksforGeeks is : G\n"
          ]
        }
      ]
    },
    {
      "cell_type": "code",
      "source": [
        "def check(string):\n",
        "\tp = set(string)\n",
        "\ts = {'0', '1'}\n",
        "\tif s == p or p == {'0'} or p == {'1'}:\n",
        "\t\tprint(\"Yes\")\n",
        "\telse:\n",
        "\t\tprint(\"No\")\n",
        "\n",
        "if __name__ == \"__main__\":\n",
        "\tstring = \"101010000111\"\n",
        "\tcheck(string)\n"
      ],
      "metadata": {
        "colab": {
          "base_uri": "https://localhost:8080/"
        },
        "id": "SuJRV5VXEYEb",
        "outputId": "fbbfa7bc-ef2b-4a7d-8bb8-9dfa3983b158"
      },
      "execution_count": 2,
      "outputs": [
        {
          "output_type": "stream",
          "name": "stdout",
          "text": [
            "Yes\n"
          ]
        }
      ]
    },
    {
      "cell_type": "code",
      "source": [
        "def Find(string):\n",
        "\tx=string.split()\n",
        "\tres=[]\n",
        "\tfor i in x:\n",
        "\t\tif i.startswith(\"https:\") or i.startswith(\"http:\"):\n",
        "\t\t\tres.append(i)\n",
        "\treturn res\n",
        "\n",
        "string = 'My Profile: https://auth.geeksforgeeks.org/user/Chinmoy%20Lenka/articles in the portal of https://www.geeksforgeeks.org/'\n",
        "print(\"Urls: \", Find(string))\n"
      ],
      "metadata": {
        "colab": {
          "base_uri": "https://localhost:8080/"
        },
        "id": "k1EYWW9jEkHs",
        "outputId": "ecb05358-2d8a-44f3-d5d4-4cb124e60eb4"
      },
      "execution_count": 3,
      "outputs": [
        {
          "output_type": "stream",
          "name": "stdout",
          "text": [
            "Urls:  ['https://auth.geeksforgeeks.org/user/Chinmoy%20Lenka/articles', 'https://www.geeksforgeeks.org/']\n"
          ]
        }
      ]
    },
    {
      "cell_type": "code",
      "source": [
        "def rotate(input,d):\n",
        "\n",
        "    Lfirst = input[0 : d]\n",
        "    Lsecond = input[d :]\n",
        "    Rfirst = input[0 : len(input)-d]\n",
        "    Rsecond = input[len(input)-d : ]\n",
        "    print (\"Left Rotation : \", (Lsecond + Lfirst) )\n",
        "    print (\"Right Rotation : \", (Rsecond + Rfirst))\n",
        "\n",
        "if __name__ == \"__main__\":\n",
        "    input = 'hamzaihsan'\n",
        "    d=2\n",
        "    rotate(input,d)"
      ],
      "metadata": {
        "colab": {
          "base_uri": "https://localhost:8080/"
        },
        "id": "OZPa8vhuFe7R",
        "outputId": "6d4c2e48-cb53-45fa-ebc9-954878a6855e"
      },
      "execution_count": 4,
      "outputs": [
        {
          "output_type": "stream",
          "name": "stdout",
          "text": [
            "Left Rotation :  mzaihsanha\n",
            "Right Rotation :  anhamzaihs\n"
          ]
        }
      ]
    },
    {
      "cell_type": "code",
      "source": [
        "test_dict = {'gfg': [5, 6, 7, 8],\n",
        "             'is': [10, 11, 7, 5],\n",
        "             'best': [6, 12, 10, 8],\n",
        "             'for': [1, 2, 5]}\n",
        "print(\"The original dictionary is : \" + str(test_dict))\n",
        "res = list(sorted({ele for val in test_dict.values() for ele in val}))\n",
        "print(\"The unique values list is : \" + str(res))"
      ],
      "metadata": {
        "colab": {
          "base_uri": "https://localhost:8080/"
        },
        "id": "lRhYReWlGlNX",
        "outputId": "38d7c750-f39d-4ea0-edf5-60201be345fc"
      },
      "execution_count": 5,
      "outputs": [
        {
          "output_type": "stream",
          "name": "stdout",
          "text": [
            "The original dictionary is : {'gfg': [5, 6, 7, 8], 'is': [10, 11, 7, 5], 'best': [6, 12, 10, 8], 'for': [1, 2, 5]}\n",
            "The unique values list is : [1, 2, 5, 6, 7, 8, 10, 11, 12]\n"
          ]
        }
      ]
    },
    {
      "cell_type": "code",
      "source": [
        "test_dict = {'rolo' : [5, 6, 7, 8],\n",
        "            'is' : [10, 11, 7, 5],\n",
        "            'best' : [6, 12, 10, 8],\n",
        "            'for' : [1, 2, 5]}\n",
        "print(\"The original dictionary is : \" + str(test_dict))\n",
        "x=list(test_dict.values())\n",
        "y=[]\n",
        "res=[]\n",
        "for i in x:\n",
        "    y.extend(i)\n",
        "for i in y:\n",
        "    if i not in res:\n",
        "        res.append(i)\n",
        "res.sort()\n",
        "print(\"The unique values list is : \" + str(res))"
      ],
      "metadata": {
        "colab": {
          "base_uri": "https://localhost:8080/"
        },
        "id": "8lw5_Y1HG5Y5",
        "outputId": "1f704816-4ad2-487f-fb76-04ffd59f685c"
      },
      "execution_count": 7,
      "outputs": [
        {
          "output_type": "stream",
          "name": "stdout",
          "text": [
            "The original dictionary is : {'rolo': [5, 6, 7, 8], 'is': [10, 11, 7, 5], 'best': [6, 12, 10, 8], 'for': [1, 2, 5]}\n",
            "The unique values list is : [1, 2, 5, 6, 7, 8, 10, 11, 12]\n"
          ]
        }
      ]
    },
    {
      "cell_type": "code",
      "source": [
        "from collections import Counter\n",
        "test_dict = {'gfg': [5, 6, 7, 8],\n",
        "             'is': [10, 11, 7, 5],\n",
        "             'best': [6, 12, 10, 8],\n",
        "             'for': [1, 2, 5]}\n",
        "print(\"The original dictionary is : \" + str(test_dict))\n",
        "valuesList = []\n",
        "for key, values in test_dict.items():\n",
        "    for value in values:\n",
        "        valuesList.append(value)\n",
        "freq = Counter(valuesList)\n",
        "uniqueValues = list(freq.keys())\n",
        "uniqueValues.sort()\n",
        "print(\"The unique values list is : \" + str(uniqueValues))"
      ],
      "metadata": {
        "colab": {
          "base_uri": "https://localhost:8080/"
        },
        "id": "JFgJhQ9wIFKu",
        "outputId": "065005a4-e67c-45a2-f6e9-81ad1a4c31d8"
      },
      "execution_count": 8,
      "outputs": [
        {
          "output_type": "stream",
          "name": "stdout",
          "text": [
            "The original dictionary is : {'gfg': [5, 6, 7, 8], 'is': [10, 11, 7, 5], 'best': [6, 12, 10, 8], 'for': [1, 2, 5]}\n",
            "The unique values list is : [1, 2, 5, 6, 7, 8, 10, 11, 12]\n"
          ]
        }
      ]
    },
    {
      "cell_type": "code",
      "source": [
        "def returnSum(myDict):\n",
        "\n",
        "    list = []\n",
        "    for i in myDict:\n",
        "        list.append(myDict[i])\n",
        "    final = sum(list)\n",
        "\n",
        "    return final\n",
        "\n",
        "dict = {'a': 100, 'b': 200, 'c': 300}\n",
        "print(\"Sum :\", returnSum(dict))"
      ],
      "metadata": {
        "colab": {
          "base_uri": "https://localhost:8080/"
        },
        "id": "kRtwpKaTINWV",
        "outputId": "eb02a886-5351-4335-c1d5-c6dd8f4b32a0"
      },
      "execution_count": 9,
      "outputs": [
        {
          "output_type": "stream",
          "name": "stdout",
          "text": [
            "Sum : 600\n"
          ]
        }
      ]
    },
    {
      "cell_type": "code",
      "source": [
        "test_dict = {'rolo' : [5, 6, 7, 8],\n",
        "'is' : [10, 11, 7, 5],\n",
        "'best' : [6, 12, 10, 8],\n",
        "'for' : [1, 2, 5]}\n",
        "print(\"The original dictionary is : \" + str(test_dict))\n",
        "result = list(set(sum(test_dict.values(), [])))\n",
        "\n",
        "print(\"The unique values list is : \" + str(result))"
      ],
      "metadata": {
        "colab": {
          "base_uri": "https://localhost:8080/"
        },
        "id": "OBIQ-cpxIPyB",
        "outputId": "036d737e-a27c-4634-ce0e-b7dbaea61641"
      },
      "execution_count": 11,
      "outputs": [
        {
          "output_type": "stream",
          "name": "stdout",
          "text": [
            "The original dictionary is : {'rolo': [5, 6, 7, 8], 'is': [10, 11, 7, 5], 'best': [6, 12, 10, 8], 'for': [1, 2, 5]}\n",
            "The unique values list is : [1, 2, 5, 6, 7, 8, 10, 11, 12]\n"
          ]
        }
      ]
    },
    {
      "cell_type": "code",
      "source": [
        "def returnSum(dict):\n",
        "    sum = 0\n",
        "    for i in dict:\n",
        "        sum = sum + dict[i]\n",
        "    return sum\n",
        "dict = {'a': 100, 'b': 200, 'c': 300}\n",
        "print(\"Sum :\", returnSum(dict))"
      ],
      "metadata": {
        "colab": {
          "base_uri": "https://localhost:8080/"
        },
        "id": "stpgM5lZIX9h",
        "outputId": "411eacd1-1aba-4d01-f713-91570d00ef01"
      },
      "execution_count": 12,
      "outputs": [
        {
          "output_type": "stream",
          "name": "stdout",
          "text": [
            "Sum : 600\n"
          ]
        }
      ]
    },
    {
      "cell_type": "code",
      "source": [
        "def returnSum(dict):\n",
        "    return sum(dict.values())\n",
        "dict = {'a': 100, 'b': 200, 'c': 300}\n",
        "print(\"Sum :\", returnSum(dict))"
      ],
      "metadata": {
        "colab": {
          "base_uri": "https://localhost:8080/"
        },
        "id": "UNPzkVOAIhyj",
        "outputId": "2505b486-39cb-4c34-fb9b-18547237af93"
      },
      "execution_count": 13,
      "outputs": [
        {
          "output_type": "stream",
          "name": "stdout",
          "text": [
            "Sum : 600\n"
          ]
        }
      ]
    },
    {
      "cell_type": "code",
      "source": [
        "test_dict = {\"Arushi\": 22, \"Mani\": 21, \"Haritha\": 21}\n",
        "print(\"The dictionary before performing remove is : \", test_dict)\n",
        "del test_dict['Mani']\n",
        "print(\"The dictionary after remove is : \", test_dict)\n"
      ],
      "metadata": {
        "colab": {
          "base_uri": "https://localhost:8080/"
        },
        "id": "wVdl0TU-Ij2o",
        "outputId": "a451e634-b6a5-4cbe-962a-c0cbfe01940b"
      },
      "execution_count": 15,
      "outputs": [
        {
          "output_type": "stream",
          "name": "stdout",
          "text": [
            "The dictionary before performing remove is :  {'Arushi': 22, 'Mani': 21, 'Haritha': 21}\n",
            "The dictionary after remove is :  {'Arushi': 22, 'Haritha': 21}\n"
          ]
        }
      ]
    },
    {
      "cell_type": "code",
      "source": [
        "test_dict = {\"Arushi\": 22, \"Anuradha\": 21,\n",
        "             \"Mani\": 21, \"Haritha\": 21}\n",
        "print(\"The dictionary before performing\\\n",
        "remove is : \" + str(test_dict))\n",
        "new_dict = {key: val for key,\n",
        "            val in test_dict.items() if key != 'Mani'}\n",
        "print(\"The dictionary after remove is : \" + str(new_dict))"
      ],
      "metadata": {
        "colab": {
          "base_uri": "https://localhost:8080/"
        },
        "id": "OY7kj73hIvrV",
        "outputId": "7b7ed86a-210a-40aa-ab21-51efb44d03cc"
      },
      "execution_count": 19,
      "outputs": [
        {
          "output_type": "stream",
          "name": "stdout",
          "text": [
            "The dictionary before performingremove is : {'Arushi': 22, 'Anuradha': 21, 'Mani': 21, 'Haritha': 21}\n",
            "The dictionary after remove is : {'Arushi': 22, 'Anuradha': 21, 'Haritha': 21}\n"
          ]
        }
      ]
    },
    {
      "cell_type": "code",
      "source": [
        "test_dict = {\"Arushi\": 22, \"Anuradha\": 21, \"Mani\": 21, \"Haritha\": 21}\n",
        "print(\"The dictionary before performing remove is : \\n\" + str(test_dict))\n",
        "\n",
        "a_dict = {key: test_dict[key] for key in test_dict if key != 'Mani'}\n",
        "\n",
        "print(\"The dictionary after performing remove is : \\n\", a_dict)"
      ],
      "metadata": {
        "colab": {
          "base_uri": "https://localhost:8080/"
        },
        "id": "1iP9mPU7JT3a",
        "outputId": "98c839fd-bef8-4d5c-f66a-b0221f1dfa09"
      },
      "execution_count": 20,
      "outputs": [
        {
          "output_type": "stream",
          "name": "stdout",
          "text": [
            "The dictionary before performing remove is : \n",
            "{'Arushi': 22, 'Anuradha': 21, 'Mani': 21, 'Haritha': 21}\n",
            "The dictionary after performing remove is : \n",
            " {'Arushi': 22, 'Anuradha': 21, 'Haritha': 21}\n"
          ]
        }
      ]
    },
    {
      "cell_type": "code",
      "source": [
        "from itertools import product\n",
        "test_dict = {'month' : [1, 2, 3],\n",
        "             'name' : ['Jan', 'Feb', 'March']}\n",
        "print(\"The original dictionary is : \" + str(test_dict))\n",
        "\n",
        "print(\"Flattened dictionary : \" + str(res))"
      ],
      "metadata": {
        "colab": {
          "base_uri": "https://localhost:8080/"
        },
        "id": "Ci2epFVEJbZT",
        "outputId": "d3a7a9f9-c33e-4c9d-d17c-f39f9075fd1a"
      },
      "execution_count": 22,
      "outputs": [
        {
          "output_type": "stream",
          "name": "stdout",
          "text": [
            "The original dictionary is : {'month': [1, 2, 3], 'name': ['Jan', 'Feb', 'March']}\n",
            "Flattened dictionary : [1, 2, 5, 6, 7, 8, 10, 11, 12]\n"
          ]
        }
      ]
    },
    {
      "cell_type": "code",
      "source": [
        "\n",
        "test_dict = {'month': [1, 2, 3], 'name': ['Jan', 'Feb', 'March']}\n",
        "res = {test_dict['month'][i]: test_dict['name'][i] for i in range(len(test_dict['month']))}\n",
        "print(\"Flattened dictionary:\", res)"
      ],
      "metadata": {
        "colab": {
          "base_uri": "https://localhost:8080/"
        },
        "id": "7gr4aaceJiSp",
        "outputId": "9b1fd872-726f-4cfe-b9e1-8cc136c28c66"
      },
      "execution_count": 25,
      "outputs": [
        {
          "output_type": "stream",
          "name": "stdout",
          "text": [
            "Flattened dictionary: {1: 'Jan', 2: 'Feb', 3: 'March'}\n"
          ]
        }
      ]
    },
    {
      "cell_type": "code",
      "source": [
        "from collections import OrderedDict\n",
        "\n",
        "def checkOrder(input, pattern):\n",
        "\tdict = OrderedDict.fromkeys(input)\n",
        "\tptrlen = 0\n",
        "\tfor key,value in dict.items():\n",
        "\t\tif (key == pattern[ptrlen]):\n",
        "\t\t\tptrlen = ptrlen + 1\n",
        "\n",
        "\t\tif (ptrlen == (len(pattern))):\n",
        "\t\t\treturn 'true'\n",
        "\treturn 'false'\n",
        "\n",
        "if __name__ == \"__main__\":\n",
        "\tinput = 'engineers rock'\n",
        "\tpattern = 'er'\n",
        "\tprint (checkOrder(input,pattern))\n"
      ],
      "metadata": {
        "colab": {
          "base_uri": "https://localhost:8080/"
        },
        "id": "mbuiW8QwJwpy",
        "outputId": "1c71bbd9-c1cb-43e4-e3c2-a5a3ccac7ef5"
      },
      "execution_count": 26,
      "outputs": [
        {
          "output_type": "stream",
          "name": "stdout",
          "text": [
            "true\n"
          ]
        }
      ]
    },
    {
      "cell_type": "code",
      "source": [
        "\n",
        "def check_order(string, pattern):\n",
        "    i, j = 0, 0\n",
        "    for char in string:\n",
        "        if char == pattern[j]:\n",
        "            j += 1\n",
        "        if j == len(pattern):\n",
        "            return True\n",
        "        i += 1\n",
        "\n",
        "    return False\n",
        "string = 'engineers rock'\n",
        "pattern = 'er'\n",
        "print(check_order(string, pattern))"
      ],
      "metadata": {
        "colab": {
          "base_uri": "https://localhost:8080/"
        },
        "id": "5Rau0_mBKvkb",
        "outputId": "993416f6-9efe-4066-da3d-72c19ffd4b3d"
      },
      "execution_count": 27,
      "outputs": [
        {
          "output_type": "stream",
          "name": "stdout",
          "text": [
            "True\n"
          ]
        }
      ]
    },
    {
      "cell_type": "code",
      "source": [
        "from collections import Counter\n",
        "\n",
        "votes =['john','johnny','jackie','johnny','john','jackie',\n",
        "    'jamie','jamie','john','johnny','jamie','johnny','john']\n",
        "vote_count=Counter(votes)\n",
        "max_votes=max(vote_count.values())\n",
        "lst=[i for i in vote_count.keys() if vote_count[i]==max_votes]\n",
        "print(sorted(lst)[0])"
      ],
      "metadata": {
        "colab": {
          "base_uri": "https://localhost:8080/"
        },
        "id": "Jyel07zmJnt7",
        "outputId": "45365327-4e4a-438a-c4c6-86c1fdbded20"
      },
      "execution_count": 28,
      "outputs": [
        {
          "output_type": "stream",
          "name": "stdout",
          "text": [
            "john\n"
          ]
        }
      ]
    },
    {
      "cell_type": "code",
      "source": [
        "Tuple1 = ()\n",
        "print(\"Initial empty Tuple: \")\n",
        "print(Tuple1)\n",
        "Tuple1 = ('Geeks', 'For')\n",
        "print(\"\\nTuple with the use of String: \")\n",
        "print(Tuple1)\n",
        "list1 = [1, 2, 4, 5, 6]\n",
        "print(\"\\nTuple using List: \")\n",
        "print(tuple(list1))\n",
        "Tuple1 = tuple('Geeks')\n",
        "print(\"\\nTuple with the use of function: \")\n",
        "print(Tuple1)"
      ],
      "metadata": {
        "colab": {
          "base_uri": "https://localhost:8080/"
        },
        "id": "j1cUfN3nK5ek",
        "outputId": "4a3345e2-3ae2-44da-e52e-877ce01691bf"
      },
      "execution_count": 29,
      "outputs": [
        {
          "output_type": "stream",
          "name": "stdout",
          "text": [
            "Initial empty Tuple: \n",
            "()\n",
            "\n",
            "Tuple with the use of String: \n",
            "('Geeks', 'For')\n",
            "\n",
            "Tuple using List: \n",
            "(1, 2, 4, 5, 6)\n",
            "\n",
            "Tuple with the use of function: \n",
            "('G', 'e', 'e', 'k', 's')\n"
          ]
        }
      ]
    },
    {
      "cell_type": "code",
      "source": [
        "Tuple1 = tuple(\"Geeks\")\n",
        "print(\"\\nFirst element of Tuple: \")\n",
        "print(Tuple1[0])\n",
        "Tuple1 = (\"Geeks\", \"For\", \"Geeks\")\n",
        "a, b, c = Tuple1\n",
        "print(\"\\nValues after unpacking: \")\n",
        "print(a)\n",
        "print(b)\n",
        "print(c)"
      ],
      "metadata": {
        "colab": {
          "base_uri": "https://localhost:8080/"
        },
        "id": "S8iImCN4LjRx",
        "outputId": "9038033c-8b4c-4dfd-ddc1-17da25f2eff3"
      },
      "execution_count": 30,
      "outputs": [
        {
          "output_type": "stream",
          "name": "stdout",
          "text": [
            "\n",
            "First element of Tuple: \n",
            "G\n",
            "\n",
            "Values after unpacking: \n",
            "Geeks\n",
            "For\n",
            "Geeks\n"
          ]
        }
      ]
    },
    {
      "cell_type": "code",
      "source": [
        "\n",
        "Tuple1 = (0, 1, 2, 3)\n",
        "Tuple2 = ('Geeks', 'For', 'Geeks')\n",
        "\n",
        "Tuple3 = Tuple1 + Tuple2\n",
        "print(\"Tuple 1: \")\n",
        "print(Tuple1)\n",
        "print(\"\\nTuple2: \")\n",
        "print(Tuple2)\n",
        "print(\"\\nTuples after Concatenation: \")\n",
        "print(Tuple3)\n"
      ],
      "metadata": {
        "colab": {
          "base_uri": "https://localhost:8080/"
        },
        "id": "-FUdEn6dLmKE",
        "outputId": "7fcd37bd-0d58-48b2-86f0-a0d9c82f04bb"
      },
      "execution_count": 31,
      "outputs": [
        {
          "output_type": "stream",
          "name": "stdout",
          "text": [
            "Tuple 1: \n",
            "(0, 1, 2, 3)\n",
            "\n",
            "Tuple2: \n",
            "('Geeks', 'For', 'Geeks')\n",
            "\n",
            "Tuples after Concatenation: \n",
            "(0, 1, 2, 3, 'Geeks', 'For', 'Geeks')\n"
          ]
        }
      ]
    },
    {
      "cell_type": "code",
      "source": [
        "\n",
        "Tuple1 = tuple('GEEKSFORGEEKS')\n",
        "print(\"Removal of First Element: \")\n",
        "print(Tuple1[1:])\n",
        "print(\"\\nTuple after sequence of Element is reversed: \")\n",
        "print(Tuple1[::-1])\n",
        "print(\"\\nPrinting elements between Range 4-9: \")\n",
        "print(Tuple1[4:9])\n"
      ],
      "metadata": {
        "colab": {
          "base_uri": "https://localhost:8080/"
        },
        "id": "nU1jkE3HLsNH",
        "outputId": "bbc985f0-114c-4066-d697-77ed116c5188"
      },
      "execution_count": 32,
      "outputs": [
        {
          "output_type": "stream",
          "name": "stdout",
          "text": [
            "Removal of First Element: \n",
            "('E', 'E', 'K', 'S', 'F', 'O', 'R', 'G', 'E', 'E', 'K', 'S')\n",
            "\n",
            "Tuple after sequence of Element is reversed: \n",
            "('S', 'K', 'E', 'E', 'G', 'R', 'O', 'F', 'S', 'K', 'E', 'E', 'G')\n",
            "\n",
            "Printing elements between Range 4-9: \n",
            "('S', 'F', 'O', 'R', 'G')\n"
          ]
        }
      ]
    },
    {
      "cell_type": "code",
      "source": [
        "\n",
        "Tuple1 = (0, 1, 2, 3, 4)\n",
        "del Tuple1\n",
        "\n",
        "print(Tuple1)\n"
      ],
      "metadata": {
        "id": "m_hH64Y8L0u_"
      },
      "execution_count": null,
      "outputs": []
    },
    {
      "cell_type": "code",
      "source": [
        "def Reverse(tuples):\n",
        "    new_tup = tuples[::-1]\n",
        "    return new_tup\n",
        "\n",
        "tuples = ('z','a','d','f','g','e','e','k')\n",
        "print(Reverse(tuples))"
      ],
      "metadata": {
        "colab": {
          "base_uri": "https://localhost:8080/"
        },
        "id": "6wiw1ayhL2ks",
        "outputId": "e12ce23a-357a-43f0-dc86-5a524eff2360"
      },
      "execution_count": 33,
      "outputs": [
        {
          "output_type": "stream",
          "name": "stdout",
          "text": [
            "('k', 'e', 'e', 'g', 'f', 'd', 'a', 'z')\n"
          ]
        }
      ]
    },
    {
      "cell_type": "code",
      "source": [
        "def Reverse(tuples):\n",
        "    new_tup = ()\n",
        "    for k in reversed(tuples):\n",
        "        new_tup = new_tup + (k,)\n",
        "    return new_tup\n",
        "tuples = (10, 11, 12, 13, 14, 15)\n",
        "Reverse(tuples)"
      ],
      "metadata": {
        "colab": {
          "base_uri": "https://localhost:8080/"
        },
        "id": "3LQTSGC_MAuR",
        "outputId": "a9fd0740-5d52-4dd3-bd98-c4309dd23fa1"
      },
      "execution_count": 35,
      "outputs": [
        {
          "output_type": "execute_result",
          "data": {
            "text/plain": [
              "(15, 14, 13, 12, 11, 10)"
            ]
          },
          "metadata": {},
          "execution_count": 35
        }
      ]
    },
    {
      "cell_type": "code",
      "source": [
        "def reverse_tuple(t):\n",
        "    new_tuple = ()\n",
        "    for i in range(len(t)-1, -1, -1):\n",
        "        new_tuple += (t[i],)\n",
        "    return new_tuple\n",
        "\n",
        "tuples = ('z','a','d','f','g','e','e','k')\n",
        "print(reverse_tuple(tuples))"
      ],
      "metadata": {
        "id": "17PqWlNlMIf8"
      },
      "execution_count": null,
      "outputs": []
    },
    {
      "cell_type": "code",
      "source": [
        "\n",
        "tuples = ('z', 'a', 'd', 'f', 'g', 'e', 'e', 'k')\n",
        "rev_string = ''.join(tuples)[::-1]\n",
        "rev_tuples = tuple(rev_string)\n",
        "print(rev_tuples)"
      ],
      "metadata": {
        "id": "JroTCeBoMJl2"
      },
      "execution_count": null,
      "outputs": []
    },
    {
      "cell_type": "code",
      "source": [
        "def Convert(tup, di):\n",
        "    for a, b in tup:\n",
        "        di.setdefault(a, []).append(b)\n",
        "    return di\n",
        "tups = [(\"akash\", 10), (\"gaurav\", 12), (\"anand\", 14),\n",
        "        (\"suraj\", 20), (\"akhil\", 25), (\"ashish\", 30)]\n",
        "dictionary = {}\n",
        "print(Convert(tups, dictionary))"
      ],
      "metadata": {
        "colab": {
          "base_uri": "https://localhost:8080/"
        },
        "id": "QQPw2RVlMOmH",
        "outputId": "182ff9e4-1b8b-419b-9cb0-32cbbd4be81a"
      },
      "execution_count": 36,
      "outputs": [
        {
          "output_type": "stream",
          "name": "stdout",
          "text": [
            "{'akash': [10], 'gaurav': [12], 'anand': [14], 'suraj': [20], 'akhil': [25], 'ashish': [30]}\n"
          ]
        }
      ]
    },
    {
      "cell_type": "code",
      "source": [
        "\n",
        "tups = [(\"akash\", 10), (\"gaurav\", 12), (\"anand\", 14),\n",
        "        (\"suraj\", 20), (\"akhil\", 25), (\"ashish\", 30)]\n",
        "dictionary = {}\n",
        "for key, val in tups:\n",
        "    dictionary.setdefault(key, val)\n",
        "print(dictionary)\n"
      ],
      "metadata": {
        "colab": {
          "base_uri": "https://localhost:8080/"
        },
        "id": "BkDhlI8jMTIU",
        "outputId": "6e86feb8-0a18-48ab-ef24-8d244dad8fe4"
      },
      "execution_count": 39,
      "outputs": [
        {
          "output_type": "stream",
          "name": "stdout",
          "text": [
            "{'akash': 10, 'gaurav': 12, 'anand': 14, 'suraj': 20, 'akhil': 25, 'ashish': 30}\n"
          ]
        }
      ]
    },
    {
      "cell_type": "code",
      "source": [
        "def Sort(tup):\n",
        "    return(sorted(tup, key = lambda x: float(x[1]), reverse = True))\n",
        "tup = [('lucky', '18.265'), ('nikhil', '14.107'), ('akash', '24.541'),\n",
        "    ('anand', '4.256'), ('gaurav', '10.365')]\n",
        "print(Sort(tup))"
      ],
      "metadata": {
        "colab": {
          "base_uri": "https://localhost:8080/"
        },
        "id": "55rS2UEUMetv",
        "outputId": "e5c9e57d-20d3-4b39-b34a-b1a4df1a6949"
      },
      "execution_count": 40,
      "outputs": [
        {
          "output_type": "stream",
          "name": "stdout",
          "text": [
            "[('akash', '24.541'), ('lucky', '18.265'), ('nikhil', '14.107'), ('gaurav', '10.365'), ('anand', '4.256')]\n"
          ]
        }
      ]
    },
    {
      "cell_type": "code",
      "source": [
        "set1 = set([1, 2, 4, 4, 3, 3, 3, 6, 5])\n",
        "print(\"\\nSet with the use of Numbers: \")\n",
        "print(set1)\n",
        "set1 = set([1, 2, 'Geeks', 4, 'For', 6, 'Geeks'])\n",
        "print(\"\\nSet with the use of Mixed Values\")\n",
        "print(set1)"
      ],
      "metadata": {
        "colab": {
          "base_uri": "https://localhost:8080/"
        },
        "id": "jNNetX1gMZ-p",
        "outputId": "2a3078db-967e-4920-fa08-60de2d332674"
      },
      "execution_count": 41,
      "outputs": [
        {
          "output_type": "stream",
          "name": "stdout",
          "text": [
            "\n",
            "Set with the use of Numbers: \n",
            "{1, 2, 3, 4, 5, 6}\n",
            "\n",
            "Set with the use of Mixed Values\n",
            "{1, 2, 4, 6, 'Geeks', 'For'}\n"
          ]
        }
      ]
    },
    {
      "cell_type": "code",
      "source": [
        "my_set = {1, 2, 3}\n",
        "\n",
        "print(my_set)"
      ],
      "metadata": {
        "colab": {
          "base_uri": "https://localhost:8080/"
        },
        "id": "EoBuePrrMwvG",
        "outputId": "793807d7-6960-4aee-d731-45288ec3a2e6"
      },
      "execution_count": 42,
      "outputs": [
        {
          "output_type": "stream",
          "name": "stdout",
          "text": [
            "{1, 2, 3}\n"
          ]
        }
      ]
    },
    {
      "cell_type": "code",
      "source": [
        "set1 = set()\n",
        "print(\"Initial blank Set: \")\n",
        "print(set1)\n",
        "\n",
        "set1.add(8)\n",
        "set1.add(9)\n",
        "set1.add((6, 7))\n",
        "print(\"\\nSet after Addition of Three elements: \")\n",
        "print(set1)\n",
        "for i in range(1, 6):\n",
        "    set1.add(i)\n",
        "print(\"\\nSet after Addition of elements from 1-5: \")\n",
        "print(set1)"
      ],
      "metadata": {
        "colab": {
          "base_uri": "https://localhost:8080/"
        },
        "id": "R9xWPTCYMzFo",
        "outputId": "ba756fd2-e8d0-497a-8e1a-2455e681fbb1"
      },
      "execution_count": 43,
      "outputs": [
        {
          "output_type": "stream",
          "name": "stdout",
          "text": [
            "Initial blank Set: \n",
            "set()\n",
            "\n",
            "Set after Addition of Three elements: \n",
            "{8, 9, (6, 7)}\n",
            "\n",
            "Set after Addition of elements from 1-5: \n",
            "{1, 2, 3, 4, 5, 8, 9, (6, 7)}\n"
          ]
        }
      ]
    },
    {
      "cell_type": "code",
      "source": [
        "set1 = set([4, 5, (6, 7)])\n",
        "set1.update([10, 11])\n",
        "print(\"\\nSet after Addition of elements using Update: \")\n",
        "print(set1)"
      ],
      "metadata": {
        "colab": {
          "base_uri": "https://localhost:8080/"
        },
        "id": "pBXgOy6bM24l",
        "outputId": "162c4412-3bab-4aae-aeae-5c9ecbabdeb4"
      },
      "execution_count": 44,
      "outputs": [
        {
          "output_type": "stream",
          "name": "stdout",
          "text": [
            "\n",
            "Set after Addition of elements using Update: \n",
            "{4, 5, 10, 11, (6, 7)}\n"
          ]
        }
      ]
    },
    {
      "cell_type": "code",
      "source": [
        "set1 = set([1, 2, 3, 4, 5, 6,\n",
        "            7, 8, 9, 10, 11, 12])\n",
        "print(\"Initial Set: \")\n",
        "print(set1)\n",
        "set1.pop()\n",
        "print(\"\\nSet after popping an element: \")\n",
        "print(set1)"
      ],
      "metadata": {
        "colab": {
          "base_uri": "https://localhost:8080/"
        },
        "id": "h3orvMNxM6TO",
        "outputId": "15a97fe8-543c-486e-bec7-6d7592656d16"
      },
      "execution_count": 45,
      "outputs": [
        {
          "output_type": "stream",
          "name": "stdout",
          "text": [
            "Initial Set: \n",
            "{1, 2, 3, 4, 5, 6, 7, 8, 9, 10, 11, 12}\n",
            "\n",
            "Set after popping an element: \n",
            "{2, 3, 4, 5, 6, 7, 8, 9, 10, 11, 12}\n"
          ]
        }
      ]
    },
    {
      "cell_type": "code",
      "source": [
        "String = ('G', 'e', 'e', 'k', 's', 'F', 'o', 'r')\n",
        "\n",
        "Fset1 = frozenset(String)\n",
        "print(\"The FrozenSet is: \")\n",
        "print(Fset1)\n",
        "print(\"\\nEmpty FrozenSet: \")\n",
        "print(frozenset())"
      ],
      "metadata": {
        "colab": {
          "base_uri": "https://localhost:8080/"
        },
        "id": "bCXnwa9GM_Jv",
        "outputId": "e281d61f-f668-4905-8351-0a01a752f89d"
      },
      "execution_count": 46,
      "outputs": [
        {
          "output_type": "stream",
          "name": "stdout",
          "text": [
            "The FrozenSet is: \n",
            "frozenset({'e', 'o', 's', 'r', 'F', 'k', 'G'})\n",
            "\n",
            "Empty FrozenSet: \n",
            "frozenset()\n"
          ]
        }
      ]
    }
  ]
}